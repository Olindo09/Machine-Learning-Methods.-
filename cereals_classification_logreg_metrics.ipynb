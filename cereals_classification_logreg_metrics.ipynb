{
  "nbformat": 4,
  "nbformat_minor": 0,
  "metadata": {
    "colab": {
      "provenance": []
    },
    "kernelspec": {
      "name": "python3",
      "display_name": "Python 3"
    },
    "language_info": {
      "name": "python"
    }
  },
  "cells": [
    {
      "cell_type": "markdown",
      "source": [
        "This code covers loading data, splitting it into training and testing sets, training linear regression and logistic regression models, evaluating their performance, and analyzing different performance metrics including confusion matrices and ROC curves.\n",
        "\n",
        "\n",
        "\n",
        "\n",
        "\n",
        "\n"
      ],
      "metadata": {
        "id": "qGBT9V2vpec_"
      }
    },
    {
      "cell_type": "code",
      "execution_count": null,
      "metadata": {
        "colab": {
          "base_uri": "https://localhost:8080/"
        },
        "id": "QS3zqBFEhuu2",
        "outputId": "76c8c1b4-9a82-4bd4-bfc4-14004e43f5e3"
      },
      "outputs": [
        {
          "output_type": "stream",
          "name": "stdout",
          "text": [
            "Data Preparation Completed\n"
          ]
        }
      ],
      "source": [
        "\n",
        "\n",
        "import pandas as pd\n",
        "from sklearn.model_selection import train_test_split\n",
        "\n",
        "# Load a sample dataset (using the cereals dataset here for demonstration)\n",
        "cereals_df = pd.read_csv('/content/Cereals.csv')\n",
        "\n",
        "# Prepare features and target variable\n",
        "features = ['calories', 'protein', 'fat', 'sodium', 'fiber', 'carbo', 'sugars', 'potass', 'vitamins', 'weight', 'cups']\n",
        "target = 'rating'\n",
        "\n",
        "X = cereals_df[features].fillna(cereals_df[features].mean())\n",
        "y = cereals_df[target]\n",
        "\n",
        "# Split the data into training and testing sets\n",
        "X_train, X_test, y_train, y_test = train_test_split(X, y, test_size=0.4, random_state=42)\n",
        "\n",
        "print(\"Data Preparation Completed\")\n"
      ]
    },
    {
      "cell_type": "code",
      "source": [
        "!pip install dmba\n",
        "import pandas as pd\n",
        "from sklearn.linear_model import LinearRegression\n",
        "from sklearn.metrics import mean_absolute_error, mean_squared_error\n",
        "from dmba import regressionSummary\n",
        "from sklearn.preprocessing import StandardScaler\n",
        "\n",
        "# Standardize the data\n",
        "scaler = StandardScaler()\n",
        "X_train_scaled = scaler.fit_transform(X_train)\n",
        "X_test_scaled = scaler.transform(X_test)\n",
        "\n",
        "# Train a linear regression model\n",
        "lin_reg = LinearRegression()\n",
        "lin_reg.fit(X_train_scaled, y_train)\n",
        "\n",
        "# Predict on the test set\n",
        "y_pred = lin_reg.predict(X_test_scaled)\n",
        "\n",
        "# Evaluate performance\n",
        "mae = mean_absolute_error(y_test, y_pred)\n",
        "mse = mean_squared_error(y_test, y_pred)\n",
        "rmse = mean_squared_error(y_test, y_pred, squared=False)\n",
        "\n",
        "print(\"Mean Absolute Error:\", mae)\n",
        "print(\"Mean Squared Error:\", mse)\n",
        "print(\"Root Mean Squared Error:\", rmse)\n",
        "\n",
        "# Detailed regression summary\n",
        "regressionSummary(y_test, y_pred)\n"
      ],
      "metadata": {
        "colab": {
          "base_uri": "https://localhost:8080/"
        },
        "id": "w9Q7DLeVpMu3",
        "outputId": "1d51a47e-1584-4594-b273-33729d45c91a"
      },
      "execution_count": null,
      "outputs": [
        {
          "output_type": "stream",
          "name": "stdout",
          "text": [
            "Collecting dmba\n",
            "  Downloading dmba-0.2.4-py3-none-any.whl (11.8 MB)\n",
            "\u001b[2K     \u001b[90m━━━━━━━━━━━━━━━━━━━━━━━━━━━━━━━━━━━━━━━━\u001b[0m \u001b[32m11.8/11.8 MB\u001b[0m \u001b[31m43.9 MB/s\u001b[0m eta \u001b[36m0:00:00\u001b[0m\n",
            "\u001b[?25hRequirement already satisfied: graphviz in /usr/local/lib/python3.10/dist-packages (from dmba) (0.20.3)\n",
            "Requirement already satisfied: matplotlib in /usr/local/lib/python3.10/dist-packages (from dmba) (3.7.1)\n",
            "Requirement already satisfied: numpy in /usr/local/lib/python3.10/dist-packages (from dmba) (1.25.2)\n",
            "Requirement already satisfied: pandas in /usr/local/lib/python3.10/dist-packages (from dmba) (2.0.3)\n",
            "Requirement already satisfied: scikit-learn in /usr/local/lib/python3.10/dist-packages (from dmba) (1.2.2)\n",
            "Requirement already satisfied: scipy in /usr/local/lib/python3.10/dist-packages (from dmba) (1.11.4)\n",
            "Requirement already satisfied: contourpy>=1.0.1 in /usr/local/lib/python3.10/dist-packages (from matplotlib->dmba) (1.2.1)\n",
            "Requirement already satisfied: cycler>=0.10 in /usr/local/lib/python3.10/dist-packages (from matplotlib->dmba) (0.12.1)\n",
            "Requirement already satisfied: fonttools>=4.22.0 in /usr/local/lib/python3.10/dist-packages (from matplotlib->dmba) (4.51.0)\n",
            "Requirement already satisfied: kiwisolver>=1.0.1 in /usr/local/lib/python3.10/dist-packages (from matplotlib->dmba) (1.4.5)\n",
            "Requirement already satisfied: packaging>=20.0 in /usr/local/lib/python3.10/dist-packages (from matplotlib->dmba) (24.0)\n",
            "Requirement already satisfied: pillow>=6.2.0 in /usr/local/lib/python3.10/dist-packages (from matplotlib->dmba) (9.4.0)\n",
            "Requirement already satisfied: pyparsing>=2.3.1 in /usr/local/lib/python3.10/dist-packages (from matplotlib->dmba) (3.1.2)\n",
            "Requirement already satisfied: python-dateutil>=2.7 in /usr/local/lib/python3.10/dist-packages (from matplotlib->dmba) (2.8.2)\n",
            "Requirement already satisfied: pytz>=2020.1 in /usr/local/lib/python3.10/dist-packages (from pandas->dmba) (2023.4)\n",
            "Requirement already satisfied: tzdata>=2022.1 in /usr/local/lib/python3.10/dist-packages (from pandas->dmba) (2024.1)\n",
            "Requirement already satisfied: joblib>=1.1.1 in /usr/local/lib/python3.10/dist-packages (from scikit-learn->dmba) (1.4.2)\n",
            "Requirement already satisfied: threadpoolctl>=2.0.0 in /usr/local/lib/python3.10/dist-packages (from scikit-learn->dmba) (3.5.0)\n",
            "Requirement already satisfied: six>=1.5 in /usr/local/lib/python3.10/dist-packages (from python-dateutil>=2.7->matplotlib->dmba) (1.16.0)\n",
            "Installing collected packages: dmba\n",
            "Successfully installed dmba-0.2.4\n",
            "Colab environment detected.\n",
            "Mean Absolute Error: 1.432509469999567\n",
            "Mean Squared Error: 5.703450160499547\n",
            "Root Mean Squared Error: 2.388189724561168\n",
            "\n",
            "Regression statistics\n",
            "\n",
            "                      Mean Error (ME) : 0.4282\n",
            "       Root Mean Squared Error (RMSE) : 2.3882\n",
            "            Mean Absolute Error (MAE) : 1.4325\n",
            "          Mean Percentage Error (MPE) : 1.0253\n",
            "Mean Absolute Percentage Error (MAPE) : 4.1544\n"
          ]
        }
      ]
    },
    {
      "cell_type": "code",
      "source": [
        "import numpy as np\n",
        "from sklearn.linear_model import LogisticRegression\n",
        "from sklearn.metrics import confusion_matrix, classification_report, roc_curve, auc\n",
        "from dmba import classificationSummary\n",
        "import matplotlib.pyplot as plt\n",
        "\n",
        "# Create a binary target variable for classification (e.g., high rating vs. low rating)\n",
        "cereals_df['high_rating'] = (cereals_df['rating'] > cereals_df['rating'].median()).astype(int)\n",
        "y_class = cereals_df['high_rating']\n",
        "\n",
        "# Split the data into training and testing sets for classification\n",
        "X_train_class, X_test_class, y_train_class, y_test_class = train_test_split(X, y_class, test_size=0.4, random_state=42)\n",
        "\n",
        "# Train a logistic regression model\n",
        "log_reg = LogisticRegression()\n",
        "log_reg.fit(X_train_class, y_train_class)\n",
        "\n",
        "# Predict on the test set\n",
        "y_pred_class = log_reg.predict(X_test_class)\n",
        "y_pred_prob = log_reg.predict_proba(X_test_class)[:, 1]\n",
        "\n",
        "# Confusion matrix and classification report\n",
        "conf_matrix = confusion_matrix(y_test_class, y_pred_class)\n",
        "class_report = classification_report(y_test_class, y_pred_class)\n",
        "\n",
        "print(\"Confusion Matrix:\\n\", conf_matrix)\n",
        "print(\"\\nClassification Report:\\n\", class_report)\n",
        "\n",
        "# ROC Curve and AUC\n",
        "fpr, tpr, _ = roc_curve(y_test_class, y_pred_prob)\n",
        "roc_auc = auc(fpr, tpr)\n",
        "\n",
        "plt.figure()\n",
        "plt.plot(fpr, tpr, color='darkorange', lw=2, label='ROC curve (area = %0.2f)' % roc_auc)\n",
        "plt.plot([0, 1], [0, 1], color='navy', lw=2, linestyle='--')\n",
        "plt.xlim([0.0, 1.0])\n",
        "plt.ylim([0.0, 1.05])\n",
        "plt.xlabel('False Positive Rate')\n",
        "plt.ylabel('True Positive Rate')\n",
        "plt.title('Receiver Operating Characteristic')\n",
        "plt.legend(loc=\"lower right\")\n",
        "plt.show()\n",
        "\n",
        "# Detailed classification summary\n",
        "classificationSummary(y_test_class, y_pred_class, class_names=['Low Rating', 'High Rating'])\n"
      ],
      "metadata": {
        "colab": {
          "base_uri": "https://localhost:8080/",
          "height": 989
        },
        "id": "gHEet_PxpRhQ",
        "outputId": "fd8e258d-c51c-454d-a13f-fc80953431fd"
      },
      "execution_count": null,
      "outputs": [
        {
          "output_type": "stream",
          "name": "stdout",
          "text": [
            "Confusion Matrix:\n",
            " [[16  2]\n",
            " [ 2 11]]\n",
            "\n",
            "Classification Report:\n",
            "               precision    recall  f1-score   support\n",
            "\n",
            "           0       0.89      0.89      0.89        18\n",
            "           1       0.85      0.85      0.85        13\n",
            "\n",
            "    accuracy                           0.87        31\n",
            "   macro avg       0.87      0.87      0.87        31\n",
            "weighted avg       0.87      0.87      0.87        31\n",
            "\n"
          ]
        },
        {
          "output_type": "stream",
          "name": "stderr",
          "text": [
            "/usr/local/lib/python3.10/dist-packages/sklearn/linear_model/_logistic.py:458: ConvergenceWarning: lbfgs failed to converge (status=1):\n",
            "STOP: TOTAL NO. of ITERATIONS REACHED LIMIT.\n",
            "\n",
            "Increase the number of iterations (max_iter) or scale the data as shown in:\n",
            "    https://scikit-learn.org/stable/modules/preprocessing.html\n",
            "Please also refer to the documentation for alternative solver options:\n",
            "    https://scikit-learn.org/stable/modules/linear_model.html#logistic-regression\n",
            "  n_iter_i = _check_optimize_result(\n"
          ]
        },
        {
          "output_type": "display_data",
          "data": {
            "text/plain": [
              "<Figure size 640x480 with 1 Axes>"
            ],
            "image/png": "[encoded data removed]"
          },
          "metadata": {}
        },
        {
          "output_type": "stream",
          "name": "stdout",
          "text": [
            "Confusion Matrix (Accuracy 0.8710)\n",
            "\n",
            "            Prediction\n",
            "     Actual  Low Rating High Rating\n",
            " Low Rating          16           2\n",
            "High Rating           2          11\n"
          ]
        }
      ]
    },
    {
      "cell_type": "code",
      "source": [
        "# Cutoff analysis\n",
        "cutoff = 0.5\n",
        "predicted_class = ['High Rating' if p > cutoff else 'Low Rating' for p in y_pred_prob]\n",
        "\n",
        "# Recompute confusion matrix with the new cutoff\n",
        "conf_matrix_cutoff = confusion_matrix(y_test_class, [1 if p > cutoff else 0 for p in y_pred_prob])\n",
        "class_report_cutoff = classification_report(y_test_class, [1 if p > cutoff else 0 for p in y_pred_prob])\n",
        "\n",
        "print(\"Confusion Matrix with Cutoff 0.5:\\n\", conf_matrix_cutoff)\n",
        "print(\"\\nClassification Report with Cutoff 0.5:\\n\", class_report_cutoff)\n"
      ],
      "metadata": {
        "colab": {
          "base_uri": "https://localhost:8080/"
        },
        "id": "5cadz3nCpZmr",
        "outputId": "0facfe7f-7a83-41ed-a79e-684e18f97964"
      },
      "execution_count": null,
      "outputs": [
        {
          "output_type": "stream",
          "name": "stdout",
          "text": [
            "Confusion Matrix with Cutoff 0.5:\n",
            " [[16  2]\n",
            " [ 2 11]]\n",
            "\n",
            "Classification Report with Cutoff 0.5:\n",
            "               precision    recall  f1-score   support\n",
            "\n",
            "           0       0.89      0.89      0.89        18\n",
            "           1       0.85      0.85      0.85        13\n",
            "\n",
            "    accuracy                           0.87        31\n",
            "   macro avg       0.87      0.87      0.87        31\n",
            "weighted avg       0.87      0.87      0.87        31\n",
            "\n"
          ]
        }
      ]
    },
    {
      "cell_type": "code",
      "source": [],
      "metadata": {
        "id": "Gdpi7vEdpaZn"
      },
      "execution_count": null,
      "outputs": []
    }
  ]
}